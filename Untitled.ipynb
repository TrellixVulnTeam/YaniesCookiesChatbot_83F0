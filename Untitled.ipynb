{
 "cells": [
  {
   "cell_type": "code",
   "execution_count": 87,
   "metadata": {},
   "outputs": [
    {
     "name": "stdout",
     "output_type": "stream",
     "text": [
      "06/22/2020\n"
     ]
    }
   ],
   "source": [
    "import json\n",
    "\n",
    "from datetime import date, datetime\n",
    "\n",
    "list_pesanan = []\n",
    "\n",
    "json_data = {\"parameters\": {\n",
    "      \"facebook_sender_id\": \"2919206894815271\",\n",
    "      \"name\": \"Rindhi can\",\n",
    "      \"name.original\": \"Rindhi can\",\n",
    "      \"phone\": 62811394041,\n",
    "      \"phone.original\": \"62811394041\",\n",
    "      \"address\": \"Jalan Kalpataru No.4\",\n",
    "      \"address.original\": \"Jalan Kalpataru No.4\",\n",
    "      \"kue\": [\n",
    "        \"Putri Salju\",\n",
    "        \"Kaastengel Istimewa\"\n",
    "      ],\n",
    "      \"kue.original\": [\n",
    "        \"Putri salju\",\n",
    "        \"kaastengel istimewa\"\n",
    "      ]\n",
    "    }\n",
    "  }\n",
    "\n",
    "\n",
    "\n",
    "param = json_data['parameters']\n",
    "list_pesanan.append({'name': param['name'], 'nomor': param['phone.original'],'alamat': param['address.original'], 'pesanan': param['kue']})\n",
    "\n",
    "tgl_order = datetime.now()\n",
    "tgl_sheets = tgl_order.strftime('%m/%d/%Y')\n",
    "print(tgl_sheets)"
   ]
  },
  {
   "cell_type": "code",
   "execution_count": null,
   "metadata": {},
   "outputs": [],
   "source": []
  }
 ],
 "metadata": {
  "kernelspec": {
   "display_name": "Python 3",
   "language": "python",
   "name": "python3"
  },
  "language_info": {
   "codemirror_mode": {
    "name": "ipython",
    "version": 3
   },
   "file_extension": ".py",
   "mimetype": "text/x-python",
   "name": "python",
   "nbconvert_exporter": "python",
   "pygments_lexer": "ipython3",
   "version": "3.8.1"
  }
 },
 "nbformat": 4,
 "nbformat_minor": 4
}
